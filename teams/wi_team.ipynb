{
 "cells": [
  {
   "cell_type": "code",
   "execution_count": null,
   "id": "c64196cc",
   "metadata": {},
   "outputs": [],
   "source": [
    "# Agent with Memory"
   ]
  },
  {
   "cell_type": "code",
   "execution_count": null,
   "id": "1957b2e8",
   "metadata": {},
   "outputs": [],
   "source": [
    "## Setup model"
   ]
  },
  {
   "cell_type": "code",
   "execution_count": 3,
   "id": "da776cb1",
   "metadata": {},
   "outputs": [],
   "source": [
    "from autogen_agentchat.agents import AssistantAgent\n",
    "from autogen_ext.models.openai import AzureOpenAIChatCompletionClient\n",
    "from dotenv import load_dotenv\n",
    "import os\n",
    "\n",
    "load_dotenv() # Load environment variables from .env file\n",
    "\n",
    "az_o3_model_client = AzureOpenAIChatCompletionClient(\n",
    "    model = \"o3-mini\",\n",
    "    azure_endpoint = os.getenv(\"AZURE_OPENAI_API_URL\"),\n",
    "    api_key = os.getenv(\"AZURE_OPENAI_API_KEY\"),\n",
    "    azure_deployment = \"o3-mini\",\n",
    "    api_version = \"2024-12-01-preview\"\n",
    ")"
   ]
  },
  {
   "cell_type": "markdown",
   "id": "8137e2d2",
   "metadata": {},
   "source": [
    "## Configurate Funtion"
   ]
  },
  {
   "cell_type": "code",
   "execution_count": 4,
   "id": "03613690",
   "metadata": {},
   "outputs": [],
   "source": [
    "from autogen_core.tools import FunctionTool\n",
    "import requests\n",
    "\n",
    "token = os.getenv(\"ADO_PERSONAL_ACCESS_TOKEN\")\n",
    "\n",
    "async def get_work_item_details(org: str, project: str, id: str) -> any:\n",
    "    # Construct the URL for the API request\n",
    "    url = f\"https://dev.azure.com/{org}/{project}/_apis/wit/workitems/{id}?api-version=7.0\"\n",
    "\n",
    "    # using python's requests library to make the API call\n",
    "    headers={\n",
    "        \"Authorization\": f\"Bearer {token}\",\n",
    "        \"Content-Type\": \"application/json\",\n",
    "    }\n",
    "    response = requests.get(url, headers=headers)\n",
    "    # Check if the request was successful\n",
    "    if response.status_code == 200:\n",
    "        # Parse the JSON response\n",
    "        work_item = response.json()\n",
    "        return work_item\n",
    "    else:\n",
    "        # Handle errors (e.g., work item not found)\n",
    "        print(f\"Error: {response.status_code} - {response.text}\")\n",
    "        return None\n",
    "get_work_item_details_tool = FunctionTool(get_work_item_details, description=\"Get one work item details from Azure DevOps.\", name=\"get_work_item_details\")"
   ]
  },
  {
   "cell_type": "markdown",
   "id": "d56e7f3e",
   "metadata": {},
   "source": [
    "## Add memory"
   ]
  },
  {
   "cell_type": "code",
   "execution_count": null,
   "id": "afe027e5",
   "metadata": {},
   "outputs": [],
   "source": [
    "from autogen_core.memory import ListMemory, MemoryContent, MemoryMimeType\n",
    "\n",
    "# Read from file doc/global-field-standards.md\n",
    "with open(\"../doc/global-field-standards.md\", \"r\") as f:\n",
    "    global_field_standards = f.read()\n",
    "\n",
    "# Initialize assistant memory with global field standards\n",
    "assistant_memory = ListMemory()\n",
    "await assistant_memory.add(\n",
    "    MemoryContent(\n",
    "        mime_type=MemoryMimeType.TEXT,\n",
    "        content=global_field_standards,\n",
    "        metadata = {\n",
    "            \"name\": \"global-field-standards.md\",\n",
    "            \"description\": \"Global field standards for Azure DevOps work items.\",\n",
    "        },\n",
    "    )\n",
    ")"
   ]
  },
  {
   "cell_type": "code",
   "execution_count": null,
   "id": "25a2669a",
   "metadata": {},
   "outputs": [],
   "source": [
    "## Create Agent"
   ]
  },
  {
   "cell_type": "code",
   "execution_count": null,
   "id": "fff3c2b2",
   "metadata": {},
   "outputs": [],
   "source": [
    "from autogen_agentchat.agents import AssistantAgent\n",
    "from autogen_agentchat.messages import TextMessage\n",
    "from autogen_core import CancellationToken\n",
    "from autogen_agentchat.ui import Console\n",
    "\n",
    "agent = AssistantAgent(\n",
    "    name = \"assistant\",\n",
    "    system_message = \"You are an experienced assistant with deep knowledge of Azure DevOps (ADO), particularly skilled in managing Work Items efficiently and accurately.\",\n",
    "    model_client = az_o3_model_client,\n",
    "    tools = [get_work_item_details_tool],\n",
    "    memory = [assistant_memory],\n",
    ")\n",
    "async def request_work_item_details():\n",
    "    # Example request to get work item details\n",
    "    await Console(\n",
    "        agent.on_messages_stream(\n",
    "            [TextMessage(content=\"Retrieve the details of work item '4850952' from the 'OneCRM' project in the 'dynamicscrm' organization, and verify whether all fields comply with the Global Field Standards. You should response `All fields are set` or tell me which required fields are not set\", source=\"user\")],\n",
    "            CancellationToken(),\n",
    "        ),\n",
    "        output_stats=True,  # Enable stats printing.\n",
    "    )\n",
    "\n",
    "await request_work_item_details()"
   ]
  }
 ],
 "metadata": {
  "kernelspec": {
   "display_name": ".venv",
   "language": "python",
   "name": "python3"
  },
  "language_info": {
   "codemirror_mode": {
    "name": "ipython",
    "version": 3
   },
   "file_extension": ".py",
   "mimetype": "text/x-python",
   "name": "python",
   "nbconvert_exporter": "python",
   "pygments_lexer": "ipython3",
   "version": "3.13.3"
  }
 },
 "nbformat": 4,
 "nbformat_minor": 5
}
