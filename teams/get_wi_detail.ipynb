{
 "cells": [
  {
   "cell_type": "markdown",
   "id": "76e6a592",
   "metadata": {},
   "source": [
    "# RoundRobinGroupChat\n",
    "\n",
    "In this example we created a team to get the WorkItem's detail\n",
    "\n"
   ]
  },
  {
   "cell_type": "markdown",
   "id": "106cacae",
   "metadata": {},
   "source": [
    "## GateAgent\n",
    "The Gate Agent is check the user input is related with get an work-item, and provided the work-item id.\n",
    "\n",
    "## WorkItemAgent\n",
    "The WorkItem Agent is an agent with tool that can fetch the detail for work item"
   ]
  },
  {
   "cell_type": "code",
   "execution_count": null,
   "id": "1affea24",
   "metadata": {
    "vscode": {
     "languageId": "plaintext"
    }
   },
   "outputs": [],
   "source": [
    "from autogen_agentchat.agents import AssistantAgent\n",
    "from autogen_ext.models.openai import AzureOpenAIChatCompletionClient\n",
    "from dotenv import load_dotenv\n",
    "import os\n",
    "\n",
    "load_dotenv() # Load environment variables from .env file\n",
    "\n",
    "az_model_client = AzureOpenAIChatCompletionClient(\n",
    "    model = \"gpt-4o-2024-11-20\",\n",
    "    azure_endpoint = os.getenv(\"AZURE_OPENAI_API_URL\"),\n",
    "    api_key = os.getenv(\"AZURE_OPENAI_API_KEY\"),\n",
    "    azure_deployment = \"gpt-4o\",\n",
    "    api_version = \"2024-12-01-preview\"\n",
    ")\n",
    "\n",
    "gate_agent = AssistantAgent(\n",
    "    name = \"gate_agent\",\n",
    "    system_message = \"You are a helpful assistant.\",\n",
    "    model_client = az_model_client\n",
    ")"
   ]
  }
 ],
 "metadata": {
  "language_info": {
   "name": "python"
  }
 },
 "nbformat": 4,
 "nbformat_minor": 5
}
