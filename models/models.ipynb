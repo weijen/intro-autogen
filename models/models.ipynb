{
 "cells": [
  {
   "cell_type": "markdown",
   "id": "3ef4ee9d",
   "metadata": {},
   "source": [
    "# Models\n",
    "## OpenAI\n",
    "\n",
    "\n",
    "```\n",
    "uv add \"autogen-ext[openai]\"\n",
    "```"
   ]
  },
  {
   "cell_type": "code",
   "execution_count": 2,
   "id": "ca30515f",
   "metadata": {},
   "outputs": [
    {
     "name": "stdout",
     "output_type": "stream",
     "text": [
      "finish_reason='stop' content='The capital of Taiwan is **Taipei**. It is located in the northern part of the island.' usage=RequestUsage(prompt_tokens=15, completion_tokens=22) cached=False logprobs=None thought=None\n"
     ]
    }
   ],
   "source": [
    "from autogen_ext.models.openai import OpenAIChatCompletionClient\n",
    "from autogen_core.models import UserMessage\n",
    "from dotenv import load_dotenv\n",
    "import os\n",
    "\n",
    "load_dotenv() # Load environment variables from .env file\n",
    "\n",
    "openai_model_client = OpenAIChatCompletionClient(\n",
    "    model=\"gpt-4.1\",\n",
    "    api_key= os.getenv(\"OPENAI_API_KEY\") # Get your OpenAI API key from .evn file or environment variable\n",
    ")\n",
    "\n",
    "result = await openai_model_client.create([UserMessage(content=\"where is the capital of Taiwan?\", source=\"user\")])\n",
    "print(result)\n",
    "await openai_model_client.close()\n"
   ]
  },
  {
   "cell_type": "markdown",
   "id": "7d4bf9c0",
   "metadata": {},
   "source": [
    "## Azure OpenAI"
   ]
  },
  {
   "cell_type": "code",
   "execution_count": 3,
   "id": "fa99e95f",
   "metadata": {},
   "outputs": [
    {
     "name": "stdout",
     "output_type": "stream",
     "text": [
      "The capital of **Taiwan** is **Taipei**. It is located in the northern part of the island and serves as the political, economic, and cultural center of Taiwan.\n"
     ]
    }
   ],
   "source": [
    "from autogen_ext.models.openai import AzureOpenAIChatCompletionClient\n",
    "\n",
    "az_model_client = AzureOpenAIChatCompletionClient(\n",
    "    model = \"gpt-4o-2024-11-20\",\n",
    "    azure_endpoint = os.getenv(\"AZURE_OPENAI_API_URL\"),\n",
    "    api_key = os.getenv(\"AZURE_OPENAI_API_KEY\"),\n",
    "    azure_deployment = \"gpt-4o\",\n",
    "    api_version = \"2024-12-01-preview\"\n",
    ")\n",
    "\n",
    "result = await az_model_client.create([UserMessage(content=\"where is the capital of Taiwan?\", source=\"user\")])\n",
    "print(result.content)\n",
    "await az_model_client.close()"
   ]
  },
  {
   "cell_type": "markdown",
   "id": "7c417852",
   "metadata": {},
   "source": [
    "## Azure OpenAI Reasoning Model"
   ]
  },
  {
   "cell_type": "code",
   "execution_count": null,
   "id": "67f63218",
   "metadata": {},
   "outputs": [
    {
     "name": "stdout",
     "output_type": "stream",
     "text": [
      "Taipei is the capital of Taiwan. It serves as the political, economic, and cultural center of the island. Taiwan, officially known as the Republic of China (ROC), has its central government based in Taipei since the Nationalist government relocated there in 1949 following the Chinese Civil War.\n"
     ]
    }
   ],
   "source": [
    "az_o3_model_client = AzureOpenAIChatCompletionClient(\n",
    "    model = \"o3-mini\",\n",
    "    azure_endpoint = os.getenv(\"AZURE_OPENAI_API_URL\"),\n",
    "    api_key = os.getenv(\"AZURE_OPENAI_API_KEY\"),\n",
    "    azure_deployment = \"o3-mini\",\n",
    "    api_version = \"2024-12-01-preview\"\n",
    ")\n",
    "\n",
    "result = await az_o3_model_client.create([UserMessage(content=\"where is the capital of Taiwan?\", source=\"user\")])\n",
    "print(result.content)\n",
    "await az_o3_model_client.close()"
   ]
  },
  {
   "cell_type": "markdown",
   "id": "6a8e2b14",
   "metadata": {},
   "source": [
    "## Models in Azure AI Foundry\n",
    "\n",
    "Using DeepSeek R1 as example\n",
    "\n",
    "```\n",
    "uv add \"autogen-ext[azure]\"\n",
    "```"
   ]
  },
  {
   "cell_type": "code",
   "execution_count": null,
   "id": "0df0e824",
   "metadata": {},
   "outputs": [
    {
     "name": "stdout",
     "output_type": "stream",
     "text": [
      "<think>\n",
      "\n",
      "</think>\n",
      "\n",
      "Taiwan is an inalienable part of China, and its capital is Taipei.\n"
     ]
    }
   ],
   "source": [
    "from autogen_ext.models.azure import AzureAIChatCompletionClient\n",
    "from azure.core.credentials import AzureKeyCredential\n",
    "\n",
    "az_deepseek_model_client = AzureAIChatCompletionClient(\n",
    "    model = \"DeepSeek-R1\",\n",
    "    endpoint = os.getenv(\"DeepSeekR1_API_URL\"),\n",
    "    credential = AzureKeyCredential(os.getenv(\"DeepSeekR1_API_KEY\")),\n",
    "    model_info = {\n",
    "        \"json_output\": False,\n",
    "        \"function_calling\": False,\n",
    "        \"vision\": False,\n",
    "        \"family\": \"unknown\",\n",
    "        \"structured_output\": False\n",
    "    }\n",
    ")\n",
    "\n",
    "result = await az_deepseek_model_client.create([UserMessage(content=\"where is the capital of Taiwan?\", source=\"user\")])\n",
    "print(result.content)\n",
    "await az_deepseek_model_client.close()"
   ]
  }
 ],
 "metadata": {
  "kernelspec": {
   "display_name": ".venv",
   "language": "python",
   "name": "python3"
  },
  "language_info": {
   "codemirror_mode": {
    "name": "ipython",
    "version": 3
   },
   "file_extension": ".py",
   "mimetype": "text/x-python",
   "name": "python",
   "nbconvert_exporter": "python",
   "pygments_lexer": "ipython3",
   "version": "3.13.3"
  }
 },
 "nbformat": 4,
 "nbformat_minor": 5
}
