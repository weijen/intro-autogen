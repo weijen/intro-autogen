{
 "cells": [
  {
   "cell_type": "markdown",
   "id": "3ef4ee9d",
   "metadata": {},
   "source": [
    "# Models\n",
    "AutoGen supports all major LLMs on the market, including OpenAI, Gemini, and Anthropic. It also supports models deployed in the Azure AI Foundry.\n",
    "\n",
    "\n",
    "## OpenAI\n",
    "To use AutoGen model, you need to add below module.\n",
    "```\n",
    "uv add \"autogen-ext[openai]\"\n",
    "```"
   ]
  },
  {
   "cell_type": "code",
   "execution_count": 6,
   "id": "ca30515f",
   "metadata": {},
   "outputs": [
    {
     "name": "stdout",
     "output_type": "stream",
     "text": [
      "The capital of Taiwan is **Taipei**.\n"
     ]
    }
   ],
   "source": [
    "from autogen_ext.models.openai import OpenAIChatCompletionClient\n",
    "from autogen_core.models import UserMessage\n",
    "from dotenv import load_dotenv\n",
    "import os\n",
    "\n",
    "load_dotenv() # Load environment variables from .env file\n",
    "\n",
    "openai_model_client = OpenAIChatCompletionClient(\n",
    "    model=\"gpt-4.1\",\n",
    "    api_key= os.getenv(\"OPENAI_API_KEY\") # Get your OpenAI API key from .evn file or environment variable\n",
    ")\n",
    "\n",
    "result = await openai_model_client.create([UserMessage(content=\"where is the capital of Taiwan?\", source=\"user\")])\n",
    "print(result.content)\n",
    "await openai_model_client.close()\n"
   ]
  },
  {
   "cell_type": "markdown",
   "id": "7d4bf9c0",
   "metadata": {},
   "source": [
    "## Azure OpenAI from Azure AI Foundry\n",
    "\n",
    "[Azure AI Foundry](https://ai.azure.com/)\n",
    "\n",
    "What is Azure AI Foundry: Azure AI Foundry brings together **capabilities from across multiple Azure AI Services**."
   ]
  },
  {
   "cell_type": "code",
   "execution_count": 10,
   "id": "fa99e95f",
   "metadata": {},
   "outputs": [
    {
     "name": "stdout",
     "output_type": "stream",
     "text": [
      "The capital of Taiwan is **Taipei**. It is located in the northern part of the island and serves as the political, economic, and cultural center of Taiwan.\n"
     ]
    }
   ],
   "source": [
    "from autogen_ext.models.openai import AzureOpenAIChatCompletionClient\n",
    "\n",
    "az_model_client = AzureOpenAIChatCompletionClient(\n",
    "    model = \"gpt-4o-2024-11-20\",\n",
    "    azure_endpoint = os.getenv(\"AZURE_OPENAI_API_URL\"),\n",
    "    api_key = os.getenv(\"AZURE_OPENAI_API_KEY\"),\n",
    "    azure_deployment = \"gpt-4o\",\n",
    "    api_version = \"2024-12-01-preview\"\n",
    ")\n",
    "\n",
    "result = await az_model_client.create([UserMessage(content=\"where is the capital of Taiwan?\", source=\"user\")])\n",
    "print(result.content)\n",
    "await az_model_client.close()"
   ]
  },
  {
   "cell_type": "markdown",
   "id": "7c417852",
   "metadata": {},
   "source": [
    "## OpenAI Reasoning Model from AI foundry"
   ]
  },
  {
   "cell_type": "code",
   "execution_count": 8,
   "id": "67f63218",
   "metadata": {},
   "outputs": [
    {
     "name": "stdout",
     "output_type": "stream",
     "text": [
      "Taipei is the capital of Taiwan. It is situated in the northern part of the island and serves as the country's political, economic, and cultural center. \n",
      "\n",
      "Historically, Taipei has been a hub of government, education, and commerce, providing a rich blend of traditional Chinese culture and modern urban development.\n",
      "\n",
      "If you need more detailed information about Taipei or Taiwan, feel free to ask!\n"
     ]
    }
   ],
   "source": [
    "az_o3_model_client = AzureOpenAIChatCompletionClient(\n",
    "    model = \"o3-mini\",\n",
    "    azure_endpoint = os.getenv(\"AZURE_OPENAI_API_URL\"),\n",
    "    api_key = os.getenv(\"AZURE_OPENAI_API_KEY\"),\n",
    "    azure_deployment = \"o3-mini\",\n",
    "    api_version = \"2024-12-01-preview\"\n",
    ")\n",
    "\n",
    "result = await az_o3_model_client.create([UserMessage(content=\"where is the capital of Taiwan?\", source=\"user\")])\n",
    "print(result.content)\n",
    "await az_o3_model_client.close()"
   ]
  },
  {
   "cell_type": "markdown",
   "id": "6a8e2b14",
   "metadata": {},
   "source": [
    "## Other Models in Azure AI Foundry\n",
    "\n",
    "Using PHI-4 as example\n",
    "\n",
    "You need to add below package.\n",
    "```\n",
    "uv add \"autogen-ext[azure]\"\n",
    "```\n",
    "\n",
    "### What is Phi-4:\n",
    "Phi-4 is Microsoft’s latest small language model in Phi family. It is open source under MIT license."
   ]
  },
  {
   "cell_type": "code",
   "execution_count": 12,
   "id": "0df0e824",
   "metadata": {},
   "outputs": [
    {
     "name": "stdout",
     "output_type": "stream",
     "text": [
      "The capital of Taiwan is Taipei. It is the largest city on the island and serves as the political, economic, and cultural center of Taiwan.\n"
     ]
    }
   ],
   "source": [
    "from autogen_ext.models.azure import AzureAIChatCompletionClient\n",
    "from azure.core.credentials import AzureKeyCredential\n",
    "\n",
    "az_deepseek_model_client = AzureAIChatCompletionClient(\n",
    "    model = \"Phi-4\",\n",
    "    endpoint = os.getenv(\"PHI_4_ENDPOINT\"),\n",
    "    credential = AzureKeyCredential(os.getenv(\"PHI_4_KEY\")),\n",
    "    model_info = {\n",
    "        \"json_output\": False,\n",
    "        \"function_calling\": False,\n",
    "        \"vision\": False,\n",
    "        \"family\": \"unknown\",\n",
    "        \"structured_output\": False\n",
    "    }\n",
    ")\n",
    "\n",
    "result = await az_deepseek_model_client.create([UserMessage(content=\"where is the capital of Taiwan?\", source=\"user\")])\n",
    "print(result.content)\n",
    "await az_deepseek_model_client.close()"
   ]
  }
 ],
 "metadata": {
  "kernelspec": {
   "display_name": ".venv",
   "language": "python",
   "name": "python3"
  },
  "language_info": {
   "codemirror_mode": {
    "name": "ipython",
    "version": 3
   },
   "file_extension": ".py",
   "mimetype": "text/x-python",
   "name": "python",
   "nbconvert_exporter": "python",
   "pygments_lexer": "ipython3",
   "version": "3.13.3"
  }
 },
 "nbformat": 4,
 "nbformat_minor": 5
}
