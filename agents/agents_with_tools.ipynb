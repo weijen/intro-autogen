{
 "cells": [
  {
   "cell_type": "markdown",
   "id": "4474826a",
   "metadata": {},
   "source": [
    "# Agents with Tool Calling"
   ]
  },
  {
   "cell_type": "code",
   "execution_count": 59,
   "id": "02d2bee2",
   "metadata": {},
   "outputs": [],
   "source": [
    "from autogen_agentchat.agents import AssistantAgent\n",
    "from autogen_ext.models.openai import AzureOpenAIChatCompletionClient\n",
    "from dotenv import load_dotenv\n",
    "import os\n",
    "\n",
    "load_dotenv() # Load environment variables from .env file\n",
    "\n",
    "az_o3_model_client = AzureOpenAIChatCompletionClient(\n",
    "    model = \"o3-mini\",\n",
    "    azure_endpoint = os.getenv(\"AZURE_OPENAI_API_URL\"),\n",
    "    api_key = os.getenv(\"AZURE_OPENAI_API_KEY\"),\n",
    "    azure_deployment = \"o3-mini\",\n",
    "    api_version = \"2024-12-01-preview\"\n",
    ")"
   ]
  },
  {
   "cell_type": "markdown",
   "id": "c6d768b5",
   "metadata": {},
   "source": [
    "## Build in tools\n",
    "### HttpTool\n",
    "\n",
    "Using HttpTool to get an WorkItem's detail\n",
    "\n",
    "#### Configuration tool"
   ]
  },
  {
   "cell_type": "code",
   "execution_count": 60,
   "id": "0777d764",
   "metadata": {},
   "outputs": [],
   "source": [
    "from autogen_ext.tools.http import HttpTool\n",
    "from urllib.parse import quote\n",
    "work_item_schema = {\n",
    "    \"type\": \"object\",\n",
    "    \"properties\": {\n",
    "        \"org\": {\n",
    "            \"type\": \"string\",\n",
    "            \"description\": \"The Azure DevOps organization name.\"\n",
    "        },\n",
    "        \"project\": {\n",
    "            \"type\": \"string\",\n",
    "            \"description\": \"The Azure DevOps project name.\"\n",
    "        },\n",
    "        \"id\": {\n",
    "            \"type\": \"string\",\n",
    "            \"description\": \"The work item ID.\"\n",
    "        }\n",
    "    },\n",
    "    \"required\": [\"org\", \"project\", \"id\"],\n",
    "}\n",
    "token = os.getenv(\"ADO_PERSONAL_ACCESS_TOKEN\")\n",
    "\n",
    "get_work_item_tool = HttpTool(\n",
    "    name=\"get_work_item\",\n",
    "    description=\"Get work item details.\",\n",
    "    method=\"GET\",\n",
    "    scheme=\"https\",\n",
    "    host=\"dev.azure.com\",\n",
    "    path=\"/{org}/{project}/_apis/wit/workitems/{id}\",\n",
    "    port=443,\n",
    "    headers={\n",
    "        \"Authorization\": f\"Bearer {token}\",\n",
    "        \"Content-Type\": \"application/json\",\n",
    "    },\n",
    "    json_schema=work_item_schema,\n",
    ")"
   ]
  },
  {
   "cell_type": "markdown",
   "id": "69fd9fab",
   "metadata": {},
   "source": [
    "Create Agent with tool"
   ]
  },
  {
   "cell_type": "code",
   "execution_count": 63,
   "id": "cf438068",
   "metadata": {},
   "outputs": [
    {
     "name": "stdout",
     "output_type": "stream",
     "text": [
      "{\"id\":4850952,\"rev\":8,\"fields\":{\"System.AreaPath\":\"OneCRM\\\\CXA Portfolio\\\\Eng-CES-Voice\\\\Voice Eng Enablement\\\\Voice-Pioneers\",\"System.TeamProject\":\"OneCRM\",\"System.IterationPath\":\"OneCRM\\\\Bromine\\\\CY25Q2\\\\2Wk\\\\2Wk01 (Apr 06 - Apr 19)\",\"System.WorkItemType\":\"User Story\",\"System.State\":\"Active\",\"System.Reason\":\"Implementation started\",\"System.AssignedTo\":{\"displayName\":\"Wei Jen Lu\",\"url\":\"https://spsprodwus21.vssps.visualstudio.com/A39971328-31a2-4457-896a-6cbe4d8b0aca/_apis/Identities/8c4edfb4-9f82-6960-bdf1-e054109ba4ba\",\"_links\":{\"avatar\":{\"href\":\"https://dev.azure.com/dynamicscrm/_apis/GraphProfile/MemberAvatars/aad.OGM0ZWRmYjQtOWY4Mi03OTYwLWJkZjEtZTA1NDEwOWJhNGJh\"}},\"id\":\"8c4edfb4-9f82-6960-bdf1-e054109ba4ba\",\"uniqueName\":\"weijenlu@microsoft.com\",\"imageUrl\":\"https://dev.azure.com/dynamicscrm/_apis/GraphProfile/MemberAvatars/aad.OGM0ZWRmYjQtOWY4Mi03OTYwLWJkZjEtZTA1NDEwOWJhNGJh\",\"descriptor\":\"aad.OGM0ZWRmYjQtOWY4Mi03OTYwLWJkZjEtZTA1NDEwOWJhNGJh\"},\"System.CreatedDate\":\"2025-03-27T18:04:28.573Z\",\"System.CreatedBy\":{\"displayName\":\"Nicolas Morales Mombiela\",\"url\":\"https://spsprodwus21.vssps.visualstudio.com/A39971328-31a2-4457-896a-6cbe4d8b0aca/_apis/Identities/e16d3222-36cf-694b-a810-13bd1c97d16d\",\"_links\":{\"avatar\":{\"href\":\"https://dev.azure.com/dynamicscrm/_apis/GraphProfile/MemberAvatars/aad.ZTE2ZDMyMjItMzZjZi03OTRiLWE4MTAtMTNiZDFjOTdkMTZk\"}},\"id\":\"e16d3222-36cf-694b-a810-13bd1c97d16d\",\"uniqueName\":\"nimorales@microsoft.com\",\"imageUrl\":\"https://dev.azure.com/dynamicscrm/_apis/GraphProfile/MemberAvatars/aad.ZTE2ZDMyMjItMzZjZi03OTRiLWE4MTAtMTNiZDFjOTdkMTZk\",\"descriptor\":\"aad.ZTE2ZDMyMjItMzZjZi03OTRiLWE4MTAtMTNiZDFjOTdkMTZk\"},\"System.ChangedDate\":\"2025-04-16T15:01:57.55Z\",\"System.ChangedBy\":{\"displayName\":\"Alex Apostolache\",\"url\":\"https://spsprodwus21.vssps.visualstudio.com/A39971328-31a2-4457-896a-6cbe4d8b0aca/_apis/Identities/59521857-6bf6-67c0-8c3c-07a9c007e44a\",\"_links\":{\"avatar\":{\"href\":\"https://dev.azure.com/dynamicscrm/_apis/GraphProfile/MemberAvatars/aad.NTk1MjE4NTctNmJmNi03N2MwLThjM2MtMDdhOWMwMDdlNDRh\"}},\"id\":\"59521857-6bf6-67c0-8c3c-07a9c007e44a\",\"uniqueName\":\"aapostolache@microsoft.com\",\"imageUrl\":\"https://dev.azure.com/dynamicscrm/_apis/GraphProfile/MemberAvatars/aad.NTk1MjE4NTctNmJmNi03N2MwLThjM2MtMDdhOWMwMDdlNDRh\",\"descriptor\":\"aad.NTk1MjE4NTctNmJmNi03N2MwLThjM2MtMDdhOWMwMDdlNDRh\"},\"System.CommentCount\":2,\"System.Title\":\"[S360] Fix Vulns in deployment-validation version 1.0.3259703\",\"System.BoardColumn\":\"Active\",\"System.BoardColumnDone\":false,\"Microsoft.VSTS.Scheduling.Effort\":0.5,\"Microsoft.VSTS.Common.Priority\":2,\"Microsoft.VSTS.Common.StateChangeDate\":\"2025-03-27T18:04:33.603Z\",\"Microsoft.VSTS.Common.ActivatedDate\":\"2025-03-27T18:04:33.603Z\",\"Microsoft.VSTS.Common.ActivatedBy\":{\"displayName\":\"Nicolas Morales Mombiela\",\"url\":\"https://spsprodwus21.vssps.visualstudio.com/A39971328-31a2-4457-896a-6cbe4d8b0aca/_apis/Identities/e16d3222-36cf-694b-a810-13bd1c97d16d\",\"_links\":{\"avatar\":{\"href\":\"https://dev.azure.com/dynamicscrm/_apis/GraphProfile/MemberAvatars/aad.ZTE2ZDMyMjItMzZjZi03OTRiLWE4MTAtMTNiZDFjOTdkMTZk\"}},\"id\":\"e16d3222-36cf-694b-a810-13bd1c97d16d\",\"uniqueName\":\"nimorales@microsoft.com\",\"imageUrl\":\"https://dev.azure.com/dynamicscrm/_apis/GraphProfile/MemberAvatars/aad.ZTE2ZDMyMjItMzZjZi03OTRiLWE4MTAtMTNiZDFjOTdkMTZk\",\"descriptor\":\"aad.ZTE2ZDMyMjItMzZjZi03OTRiLWE4MTAtMTNiZDFjOTdkMTZk\"},\"Microsoft.VSTS.Common.StackRank\":1999996959.0,\"Microsoft.VSTS.Scheduling.StoryPoints\":0.5,\"Microsoft.VSTS.Common.ValueArea\":\"Business\",\"1cs.IsException\":false,\"WEF_7F998C84616E48C38828146A86E73D53_Kanban.Column\":\"Active\",\"WEF_7F998C84616E48C38828146A86E73D53_Kanban.Column.Done\":false,\"WEF_D85EC7976079464C8A9AC6559886EA65_Kanban.Column\":\"Active\",\"WEF_D85EC7976079464C8A9AC6559886EA65_Kanban.Column.Done\":false,\"WEF_6BEF77FC20D4428C9A2B00CFAC6B9B7F_Kanban.Column\":\"Active\",\"WEF_6BEF77FC20D4428C9A2B00CFAC6B9B7F_Kanban.Column.Done\":false,\"System.Description\":\"<div>The image has vuln expiring on April 12th 2025. </div>\"},\"_links\":{\"self\":{\"href\":\"https://dev.azure.com/dynamicscrm/b276c3e1-2902-46bd-a686-484157b97f48/_apis/wit/workItems/4850952\"},\"workItemUpdates\":{\"href\":\"https://dev.azure.com/dynamicscrm/b276c3e1-2902-46bd-a686-484157b97f48/_apis/wit/workItems/4850952/updates\"},\"workItemRevisions\":{\"href\":\"https://dev.azure.com/dynamicscrm/b276c3e1-2902-46bd-a686-484157b97f48/_apis/wit/workItems/4850952/revisions\"},\"workItemComments\":{\"href\":\"https://dev.azure.com/dynamicscrm/b276c3e1-2902-46bd-a686-484157b97f48/_apis/wit/workItems/4850952/comments\"},\"html\":{\"href\":\"https://dev.azure.com/dynamicscrm/b276c3e1-2902-46bd-a686-484157b97f48/_workitems/edit/4850952\"},\"workItemType\":{\"href\":\"https://dev.azure.com/dynamicscrm/b276c3e1-2902-46bd-a686-484157b97f48/_apis/wit/workItemTypes/User%20Story\"},\"fields\":{\"href\":\"https://dev.azure.com/dynamicscrm/b276c3e1-2902-46bd-a686-484157b97f48/_apis/wit/fields\"}},\"url\":\"https://dev.azure.com/dynamicscrm/b276c3e1-2902-46bd-a686-484157b97f48/_apis/wit/workItems/4850952\"}\n"
     ]
    }
   ],
   "source": [
    "from autogen_agentchat.agents import AssistantAgent\n",
    "from autogen_agentchat.messages import TextMessage\n",
    "from autogen_core import CancellationToken\n",
    "from autogen_agentchat.ui import Console\n",
    "\n",
    "agent = AssistantAgent(\n",
    "    name = \"assistant\",\n",
    "    system_message = \"You are an experienced assistant with deep knowledge of Azure DevOps (ADO), particularly skilled in managing Work Items efficiently and accurately.\",\n",
    "    model_client = az_o3_model_client,\n",
    "    tools = [get_work_item_tool],\n",
    ")\n",
    "async def request_work_item_details():\n",
    "    # Example request to get work item details\n",
    "    response = await agent.on_messages(\n",
    "            [TextMessage(content=\"Get the details of work item '4850952' in project 'OneCRM' in organization 'dynamicscrm'\", source=\"user\")],\n",
    "            CancellationToken(),\n",
    "        )\n",
    "    print(response.chat_message.content)\n",
    "\n",
    "await request_work_item_details()"
   ]
  }
 ],
 "metadata": {
  "kernelspec": {
   "display_name": ".venv",
   "language": "python",
   "name": "python3"
  },
  "language_info": {
   "codemirror_mode": {
    "name": "ipython",
    "version": 3
   },
   "file_extension": ".py",
   "mimetype": "text/x-python",
   "name": "python",
   "nbconvert_exporter": "python",
   "pygments_lexer": "ipython3",
   "version": "3.13.3"
  }
 },
 "nbformat": 4,
 "nbformat_minor": 5
}
