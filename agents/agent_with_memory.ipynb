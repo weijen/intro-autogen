{
 "cells": [
  {
   "cell_type": "markdown",
   "id": "27f12f2e",
   "metadata": {},
   "source": [
    "# Agent with Memory"
   ]
  },
  {
   "cell_type": "markdown",
   "id": "28c3104a",
   "metadata": {},
   "source": [
    "## Setup model"
   ]
  },
  {
   "cell_type": "code",
   "execution_count": 2,
   "id": "f47fccaf",
   "metadata": {},
   "outputs": [],
   "source": [
    "from autogen_agentchat.agents import AssistantAgent\n",
    "from autogen_ext.models.openai import AzureOpenAIChatCompletionClient\n",
    "from dotenv import load_dotenv\n",
    "import os\n",
    "\n",
    "load_dotenv() # Load environment variables from .env file\n",
    "\n",
    "az_o3_model_client = AzureOpenAIChatCompletionClient(\n",
    "    model = \"o3-mini\",\n",
    "    azure_endpoint = os.getenv(\"AZURE_OPENAI_API_URL\"),\n",
    "    api_key = os.getenv(\"AZURE_OPENAI_API_KEY\"),\n",
    "    azure_deployment = \"o3-mini\",\n",
    "    api_version = \"2024-12-01-preview\"\n",
    ")"
   ]
  },
  {
   "cell_type": "markdown",
   "id": "3b183366",
   "metadata": {},
   "source": [
    "## Add memory"
   ]
  },
  {
   "cell_type": "code",
   "execution_count": 4,
   "id": "7e3cc745",
   "metadata": {},
   "outputs": [],
   "source": [
    "from autogen_core.memory import ListMemory, MemoryContent, MemoryMimeType\n",
    "# Initialize user memory\n",
    "user_memory = ListMemory()\n",
    "\n",
    "await user_memory.add(MemoryContent(content=\"I like to see historical monuments or buildings.\", mime_type=MemoryMimeType.TEXT))\n",
    "await user_memory.add(MemoryContent(content=\"I don't like crowded places.\", mime_type=MemoryMimeType.TEXT))\n",
    "await user_memory.add(MemoryContent(content=\"I like to eat Japanese cuisine.\", mime_type=MemoryMimeType.TEXT))"
   ]
  },
  {
   "cell_type": "markdown",
   "id": "7eca1306",
   "metadata": {},
   "source": [
    "## Create Agent"
   ]
  },
  {
   "cell_type": "code",
   "execution_count": 8,
   "id": "416266d6",
   "metadata": {},
   "outputs": [
    {
     "name": "stdout",
     "output_type": "stream",
     "text": [
      "---------- MemoryQueryEvent (assistant) ----------\n",
      "[MemoryContent(content='I like to see historical monuments or buildings.', mime_type=<MemoryMimeType.TEXT: 'text/plain'>, metadata=None), MemoryContent(content=\"I don't like crowded places.\", mime_type=<MemoryMimeType.TEXT: 'text/plain'>, metadata=None), MemoryContent(content='I like to eat Japanese cuisine.', mime_type=<MemoryMimeType.TEXT: 'text/plain'>, metadata=None)]\n",
      "---------- assistant ----------\n",
      "Great choice! Barcelona is a vibrant city rich in history, stunning architecture, and delicious culinary experiences – including some excellent Japanese cuisine spots. Based on your interests (historical monuments and buildings), your preference for avoiding crowded places, and your love for Japanese food, here’s a detailed 7-day itinerary suggestion with ideas to help you make the most of your trip:\n",
      "\n",
      "──────────────────────────────\n",
      "Day 1: Arrival & Local Orientation\n",
      "──────────────────────────────\n",
      "• Arrival & Check-in: Choose a centrally located, boutique hotel in a quieter neighborhood such as Eixample. This area offers beautiful modernist architecture without the intense bustle of the Gothic Quarter.  \n",
      "• Afternoon Stroll: Familiarize yourself with your surroundings while taking a gentle walk through quieter streets. You might enjoy a stroll along Passeig de Gràcia to admire its modernist buildings (look for Casa Batlló and La Pedrera from outside; you can opt for a guided visit later when it’s less busy).  \n",
      "• Dinner: Ease into the trip with dinner at a Japanese restaurant like “Nomo” or “Ramen-ya Hiro,” which, although in the city center, often offer a more relaxed dining experience if you visit at off-peak times.\n",
      "\n",
      "──────────────────────────────\n",
      "Day 2: Gothic Quarter & Early Historical Exploration\n",
      "──────────────────────────────\n",
      "• Morning: Start early with a guided walking tour of the Gothic Quarter. Visit the Barcelona Cathedral and explore narrow, centuries-old streets before the crowds set in. Early morning tours usually provide a more intimate experience of these historic sites.  \n",
      "• Midday: Enjoy a quiet café lunch hidden in one of the side streets – many small cafés in the area are less frequented by tourists.  \n",
      "• Afternoon: Visit the nearby “El Call” (the old Jewish quarter) for a quieter historical exploration that reveals layers of Barcelona’s past.  \n",
      "• Dinner: Reserve a table for dinner at “Koy Shunka,” a Michelin-starred Japanese restaurant that offers a refined take on Japanese cuisine. Be sure to book ahead.\n",
      "\n",
      "──────────────────────────────\n",
      "Day 3: Montjuïc’s Historical & Panoramic Offerings\n",
      "──────────────────────────────\n",
      "• Morning: Take a cab or public transportation to Montjuïc early in the morning. Visit Montjuïc Castle—this fortified hilltop site not only has a rich military history but also offers panoramic views of the city and harbor.  \n",
      "• Late Morning: Explore the nearby gardens and museums on Montjuïc (such as the Fundació Joan Miró or the CaixaForum) keeping in mind that many of these spots are more peaceful during weekday mornings.  \n",
      "• Lunch: Consider an outdoor picnic on Montjuïc if the weather is pleasant.  \n",
      "• Evening: Return to the hotel and enjoy a relaxed dinner downtown, possibly trying another Japanese spot if you’re in the mood (perhaps check out “Ramen-ya Hiro” again if you enjoyed it).\n",
      "\n",
      "──────────────────────────────\n",
      "Day 4: Hidden Gems & Lesser-Known Historical Sites\n",
      "──────────────────────────────\n",
      "• Morning: Venture to the Laberint d’Horta Park, a historical garden featuring a neoclassical labyrinth and charming pavilions. This park is often less crowded and provides a peaceful retreat with a touch of history.  \n",
      "• Lunch: Enjoy lunch in a quiet local bistro in the Horta-Guinardó district where you’ll experience more local ambiance.  \n",
      "• Afternoon: Explore the Hospital de la Santa Creu i Sant Pau – a stunning modernist complex that’s rich in history and less busy than the more famous landmarks. Its peaceful courtyards and impressive architecture offer both history and a calm atmosphere.  \n",
      "• Dinner: Return to a quiet neighborhood for dinner. You might revisit your favorite Japanese fare or try another local restaurant with fusion options that incorporate subtle Japanese influences.\n",
      "\n",
      "──────────────────────────────\n",
      "Day 5: Day Trip to Tarragona (Ancient Roman History)\n",
      "──────────────────────────────\n",
      "• All Day: Consider a day trip to Tarragona, approximately one hour by train from Barcelona. This ancient Roman city is filled with ruins, a well-preserved amphitheater, and a historical old quarter that attracts fewer crowds than Barcelona’s main attractions.  \n",
      "   – Join a guided tour early in the day to delve into its Roman history and coastal charm.\n",
      "• Lunch: Enjoy a leisurely lunch at a local restaurant before heading back to Barcelona in the late afternoon.\n",
      "• Evening: After returning, have a relaxed dinner—perhaps a revisit to a Japanese restaurant for a comforting bowl of ramen or sushi.\n",
      "\n",
      "──────────────────────────────\n",
      "Day 6: Modernist Architecture & Off-the-Beaten-Path Exploration\n",
      "──────────────────────────────\n",
      "• Morning: Explore lesser-known modernist buildings such as Casa Vicens, one of Gaudí’s earliest works. Unlike the more crowded Sagrada Família, this site offers insight into his evolving style in a quieter setting.  \n",
      "• Late Morning: Wander along quieter streets in Eixample, admiring the architectural details sprinkled throughout the neighborhood.\n",
      "• Lunch: Find a quiet café in the area for lunch.\n",
      "• Afternoon: Visit Casa de les Punxes or another local historical site that offers an interesting story without the heavy tourist crowds.\n",
      "• Dinner: For dinner, consider a relaxed evening at a local Japanese izakaya where you can sample small plates and enjoy a laid-back atmosphere.\n",
      "\n",
      "──────────────────────────────\n",
      "Day 7: Leisure, Last-Minute Exploration & Departure Preparations\n",
      "──────────────────────────────\n",
      "• Morning: Use the last day to revisit any favorite spots or explore local markets (like Mercat de la Concepció) early in the morning to avoid crowds.\n",
      "• Lunch: Enjoy a farewell lunch at a restaurant of your choice—if you’re still in the mood for Japanese cuisine, perhaps try a restaurant that offers a fusion twist that reflects both Japanese and Catalan elements.\n",
      "• Afternoon: Take a leisurely walk or last-minute souvenir shopping in quieter areas near your hotel.\n",
      "• Departure: Head back to your accommodation, collect your luggage, and travel to the airport with plenty of time for a smooth departure.\n",
      "\n",
      "──────────────────────────────\n",
      "Additional Travel Tips:\n",
      "──────────────────────────────\n",
      "• Timing & Reservations: To avoid the busiest times at popular sites, plan visits early in the morning or during weekdays. Many attractions offer skip-the-line tickets – book these in advance.\n",
      "• Transportation: The metro and buses are efficient for getting around Barcelona, but consider taxis or rideshares late at night or for excursions to places like Montjuïc for comfort and ease.\n",
      "• Accommodation: Look for boutique or smaller hotels in quieter neighborhoods like Eixample. This area offers convenient access to historical sights without the density of the Gothic Quarter.\n",
      "• Dining: Call ahead or make reservations for Japanese restaurants, as they can be popular despite being less touristy. Off-peak dining hours usually result in a more relaxed environment.\n",
      "• Clothing & Comfort: Wear comfortable walking shoes, and be prepared for the city’s mix of cobblestone streets and modern paved surfaces.\n",
      "• Language: While many locals speak English, learning a few basic Catalan or Spanish phrases can enhance your experience and interactions.\n",
      "\n",
      "──────────────────────────────\n",
      "Before Finalizing:\n",
      "──────────────────────────────\n",
      "• Do you have any specific dates in mind, or a rough idea of your budget for accommodations and dining?\n",
      "• Would you be interested in guided tours for historical sites, or do you prefer self-guided exploration with detailed recommendations?\n",
      "• Are there any other interests or must-see sites you’d like to add to the itinerary?\n",
      "\n",
      "Feel free to provide any additional details or ask further questions. I’m here to help fine-tune your itinerary so your Barcelona adventure is smooth, enjoyable, and perfectly tailored to your tastes!\n",
      "[Prompt tokens: 138, Completion tokens: 2528]\n",
      "---------- Summary ----------\n",
      "Number of inner messages: 1\n",
      "Total prompt tokens: 138\n",
      "Total completion tokens: 2528\n",
      "Duration: 18.44 seconds\n"
     ]
    }
   ],
   "source": [
    "from autogen_agentchat.agents import AssistantAgent\n",
    "from autogen_agentchat.messages import TextMessage\n",
    "from autogen_core import CancellationToken\n",
    "from autogen_agentchat.ui import Console\n",
    "\n",
    "agent = AssistantAgent(\n",
    "    name = \"assistant\",\n",
    "    system_message = \"You are an experienced travel agent with deep expertise in global travel planning. Your job is to help me create an enjoyable, well-organized, and efficient travel itinerary based on my preferences. Ask relevant questions about my travel goals, interests, budget, and timing, then suggest a detailed travel plan including destinations, activities, accommodations, and travel tip\",\n",
    "    model_client = az_o3_model_client,\n",
    "    memory = [user_memory],\n",
    ")\n",
    "async def ask_for_traval_plan():\n",
    "    # Example request to get work item details\n",
    "    await Console(\n",
    "        agent.on_messages_stream(\n",
    "            [TextMessage(content=\"I am planing to visit Barcelona for 7 days, can you give me suggestion?\", source=\"user\")],\n",
    "            CancellationToken(),\n",
    "        ),\n",
    "        output_stats=True,  # Enable stats printing.\n",
    "    )\n",
    "\n",
    "await ask_for_traval_plan()"
   ]
  }
 ],
 "metadata": {
  "kernelspec": {
   "display_name": ".venv",
   "language": "python",
   "name": "python3"
  },
  "language_info": {
   "codemirror_mode": {
    "name": "ipython",
    "version": 3
   },
   "file_extension": ".py",
   "mimetype": "text/x-python",
   "name": "python",
   "nbconvert_exporter": "python",
   "pygments_lexer": "ipython3",
   "version": "3.13.3"
  }
 },
 "nbformat": 4,
 "nbformat_minor": 5
}
