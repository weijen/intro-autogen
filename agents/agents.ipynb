{
 "cells": [
  {
   "cell_type": "markdown",
   "id": "917427ac",
   "metadata": {},
   "source": [
    "# Agents\n",
    "\n",
    "## Assistant Agent\n",
    "\n",
    "A simple assistant agent\n",
    "\n",
    "```\n",
    "uv add autogen_agentchat\n",
    "```"
   ]
  },
  {
   "cell_type": "code",
   "execution_count": 2,
   "id": "f063118d",
   "metadata": {},
   "outputs": [],
   "source": [
    "from autogen_agentchat.agents import AssistantAgent\n",
    "from autogen_ext.models.openai import AzureOpenAIChatCompletionClient\n",
    "from dotenv import load_dotenv\n",
    "import os\n",
    "\n",
    "load_dotenv() # Load environment variables from .env file\n",
    "\n",
    "az_model_client = AzureOpenAIChatCompletionClient(\n",
    "    model = \"gpt-4o-2024-11-20\",\n",
    "    azure_endpoint = os.getenv(\"AZURE_OPENAI_API_URL\"),\n",
    "    api_key = os.getenv(\"AZURE_OPENAI_API_KEY\"),\n",
    "    azure_deployment = \"gpt-4o\",\n",
    "    api_version = \"2024-12-01-preview\"\n",
    ")\n",
    "\n",
    "agent = AssistantAgent(\n",
    "    name = \"assistant\",\n",
    "    system_message = \"You are a helpful assistant.\",\n",
    "    model_client = az_model_client\n",
    ")"
   ]
  },
  {
   "cell_type": "markdown",
   "id": "8926940d",
   "metadata": {},
   "source": [
    "## Getting Responses\n",
    "###  Using on_messages()"
   ]
  },
  {
   "cell_type": "code",
   "execution_count": null,
   "id": "df0537fc",
   "metadata": {},
   "outputs": [
    {
     "name": "stdout",
     "output_type": "stream",
     "text": [
      "[]\n",
      "Certainly! A 3-day trip to Alhambra, Spain, will let you truly immerse yourself in the spectacular history, culture, and beauty of Granada and its iconic Moorish palace. Here's a well-rounded itinerary for your trip:\n",
      "\n",
      "---\n",
      "\n",
      "### **Day 1: Arrival and Exploring Granada**\n",
      "#### Morning:\n",
      "- **Arrival in Granada**: Fly into Federico García Lorca Granada-Jaén Airport or arrive by train. Check into your accommodation near the Alhambra or the historic Albaicín district for easy access to major attractions.\n",
      "- **Orientation Walk**: Explore Granada's city center. Take a leisurely walk around **Plaza Nueva**, Granada's oldest square, and admire its vibrant atmosphere.\n",
      "  \n",
      "#### Afternoon:\n",
      "- **Sacromonte Neighborhood**: Visit the iconic Sacromonte neighborhood, known for its gypsy caves and flamenco culture. You can also tour the **Museo Cuevas del Sacromonte**, which provides insight into the area's traditions and cave dwellings.\n",
      "- **Albaicín**: Stroll through Albaicín, the charming Moorish quarter filled with narrow streets, whitewashed buildings, and flower-filled patios. Visit **Mirador de San Nicolás** for stunning panoramic views of Alhambra and the Sierra Nevada mountains.\n",
      "\n",
      "#### Evening:\n",
      "- **Dinner and Flamenco Show**: Dine at a local restaurant with Andalusian specialties like tapas or gazpacho. Consider attending a traditional flamenco performance at a venue in Sacromonte or Albaicín, such as **La Cueva de la Rocío**.\n",
      "\n",
      "---\n",
      "\n",
      "### **Day 2: Exploring the Alhambra**\n",
      "#### Morning:\n",
      "- **Alhambra & Generalife Gardens Tour**: Dedicate your morning to exploring the crown jewel of Granada—the Alhambra. Ensure you book your tickets in advance! \n",
      "  - Start with the **Nasrid Palaces**, a masterpiece of Islamic art and architecture.\n",
      "  - Wander through **the Alcazaba**, the fortress offering fantastic views of Granada.\n",
      "  - End with the lush **Generalife Gardens**, the summer palace for the Nasrid rulers.\n",
      "\n",
      "#### Afternoon:\n",
      "- **Lunch near the Alhambra**: Stop by a nearby restaurant like **Parador de Granada** for Andalusian cuisine with incredible views.\n",
      "- **Alhambra Museum**: Visit the museum inside the **Palace of Charles V** to deepen your understanding of the site's history and Moorish artifacts.\n",
      "\n",
      "#### Evening:\n",
      "- **Free Time in the City**: Stroll through Granada’s lively shopping streets like **Calle Alcaicería**, once the Moorish silk bazaar. Browse souvenirs or sip tea in a cozy **tetería** (traditional tea house).\n",
      "- **Dinner**: Try a modern take on Spanish cuisine in central Granada. **La Fábula** offers creative dishes in an elegant setting.\n",
      "\n",
      "---\n",
      "\n",
      "### **Day 3: Day Trips and Farewell**\n",
      "#### Morning:\n",
      "- **Day Trip to Sierra Nevada**: Take a short trip to the nearby **Sierra Nevada National Park**. Depending on the season, you can hike scenic trails, enjoy the natural beauty, or experience winter sports like skiing (if visiting in colder months). Alternatively, visit the idyllic **Alpujarras villages** for their picturesque views and local charm.\n",
      "\n",
      "#### Afternoon:\n",
      "- **Return to Granada**: Head back to Granada and relax at a hammam like **Hammam Al Ándalus Granada**, where you can soak in traditional Arab baths and enjoy a rejuvenating massage. It's the perfect way to unwind after exploring.\n",
      "  \n",
      "#### Evening:\n",
      "- **Farewell Dinner**: Spend your last evening enjoying the lively atmosphere at a tapas bar. **Bodegas Castañeda** is a popular choice for great food in a traditional setting.\n",
      "- **Evening Walk**: Stroll through the illuminated streets one last time and visit **Paseo de los Tristes** for a magical nighttime view of the Alhambra.\n",
      "\n",
      "---\n",
      "\n",
      "### Additional Tips:\n",
      "1. **Book Alhambra tickets in advance**: The Alhambra is extremely popular, and it's essential to secure your tickets as early as possible, ideally weeks ahead.\n",
      "2. **Comfortable Shoes**: Granada has steep streets and cobbled paths, so wear comfortable walking shoes.\n",
      "3. **Weather**: Pack appropriately for the season. Summers are hot, while winters can be chilly, especially with the Sierra Nevada nearby.\n",
      "4. **Transportation**: Granada is compact, and most attractions are walkable. If you plan a day trip out of the city, rent a car or check public transport options.\n",
      "\n",
      "Enjoy your magical 3-day adventure in Granada and Alhambra!\n"
     ]
    }
   ],
   "source": [
    "from autogen_core import CancellationToken\n",
    "from autogen_agentchat.messages import TextMessage\n",
    "\n",
    "async def using_on_messages() -> None:\n",
    "    response = await agent.on_messages(\n",
    "        [TextMessage(content = \"Plan a 3 days trip to Alhambra, Spain\", source = \"user\")],\n",
    "        cancellation_token = CancellationToken(),\n",
    "    )\n",
    "\n",
    "    print(response.chat_message.content)\n",
    "\n",
    "await using_on_messages()"
   ]
  },
  {
   "cell_type": "markdown",
   "id": "ae88431e",
   "metadata": {},
   "source": [
    "### Input images"
   ]
  },
  {
   "cell_type": "code",
   "execution_count": 4,
   "id": "acf603e0",
   "metadata": {},
   "outputs": [
    {
     "name": "stdout",
     "output_type": "stream",
     "text": [
      "This image depicts a Python programming command and its output. Here's the breakdown:\n",
      "\n",
      "1. **Code Input**:\n",
      "   - The prompt `>>>` indicates a Python interactive shell (REPL).\n",
      "   - The command `print(\"Hello World!\")` is written in colorful syntax, common in code editors or highlighted terminals. In this case, \"print\" is pink, and `\"Hello World!\"` is green.\n",
      "\n",
      "2. **Output**:\n",
      "   - The line below shows the result of executing the command: `Hello World!` in plain white text.\n",
      "\n",
      "3. **Final Prompt**:\n",
      "   - The last line returns to the prompt `>>>`, indicating the Python shell is ready for the next command.\n",
      "\n",
      "This represents a classic \"Hello World!\" program, which is popular as a simple example in programming tutorials for beginners to demonstrate how to print output to the screen.\n",
      "Response(chat_message=TextMessage(source='assistant', models_usage=RequestUsage(prompt_tokens=1424, completion_tokens=173), metadata={}, content='This image depicts a Python programming command and its output. Here\\'s the breakdown:\\n\\n1. **Code Input**:\\n   - The prompt `>>>` indicates a Python interactive shell (REPL).\\n   - The command `print(\"Hello World!\")` is written in colorful syntax, common in code editors or highlighted terminals. In this case, \"print\" is pink, and `\"Hello World!\"` is green.\\n\\n2. **Output**:\\n   - The line below shows the result of executing the command: `Hello World!` in plain white text.\\n\\n3. **Final Prompt**:\\n   - The last line returns to the prompt `>>>`, indicating the Python shell is ready for the next command.\\n\\nThis represents a classic \"Hello World!\" program, which is popular as a simple example in programming tutorials for beginners to demonstrate how to print output to the screen.', type='TextMessage'), inner_messages=[])\n"
     ]
    }
   ],
   "source": [
    "from io import BytesIO\n",
    "\n",
    "import PIL\n",
    "import requests\n",
    "from autogen_agentchat.messages import MultiModalMessage\n",
    "from autogen_core import Image\n",
    "\n",
    "# Create a multi-modal message with random image and text.\n",
    "pil_image = PIL.Image.open(BytesIO(requests.get(\"https://d1y8sb8igg2f8e.cloudfront.net/images/shutterstock_1375463840.width-800.jpg\").content))\n",
    "\n",
    "img = Image(pil_image)\n",
    "multi_modal_message = MultiModalMessage(content=[\"Can you describe the content of this image?\", img], source=\"user\")\n",
    "img\n",
    "\n",
    "response = await agent.on_messages([multi_modal_message], CancellationToken())\n",
    "print(response.chat_message.content)\n",
    "print(response)"
   ]
  },
  {
   "cell_type": "markdown",
   "id": "b9b30138",
   "metadata": {},
   "source": [
    "### using on_messages_stream()"
   ]
  },
  {
   "cell_type": "markdown",
   "id": "134dfea2",
   "metadata": {},
   "source": [
    "#### Define Agent"
   ]
  },
  {
   "cell_type": "code",
   "execution_count": 6,
   "id": "9a652ad5",
   "metadata": {},
   "outputs": [],
   "source": [
    "az_o3_model_client = AzureOpenAIChatCompletionClient(\n",
    "    model = \"o3-mini\",\n",
    "    azure_endpoint = os.getenv(\"AZURE_OPENAI_API_URL\"),\n",
    "    api_key = os.getenv(\"AZURE_OPENAI_API_KEY\"),\n",
    "    azure_deployment = \"o3-mini\",\n",
    "    api_version = \"2024-12-01-preview\"\n",
    ")\n",
    "\n",
    "agent_o3 = AssistantAgent(\n",
    "    name = \"assistant_o3\",\n",
    "    system_message = \"You are a helpful assistant.\",\n",
    "    model_client = az_o3_model_client\n",
    ")"
   ]
  },
  {
   "cell_type": "markdown",
   "id": "55c5aed2",
   "metadata": {},
   "source": [
    "#### Read messages from stream"
   ]
  },
  {
   "cell_type": "code",
   "execution_count": null,
   "id": "bfd7e164",
   "metadata": {},
   "outputs": [
    {
     "name": "stdout",
     "output_type": "stream",
     "text": [
      "Response(chat_message=TextMessage(source='assistant_o3', models_usage=RequestUsage(prompt_tokens=1054, completion_tokens=1371), metadata={}, content='Here’s a flexible 3-day itinerary for Lisbon that combines historic neighborhoods, cultural landmarks, modern attractions, and plenty of local flavor. Feel free to adjust it based on your pace, interests, and season!\\n\\n────────────────────────────\\nDAY 1: Old Lisbon & Historic Charm\\n\\nMorning\\n• Start in Alfama – Lisbon’s oldest neighborhood.\\n\\u2003– Enjoy a traditional Portuguese breakfast (think pastel de nata with a bica coffee) at a local café.\\n\\u2003– Wander the narrow, labyrinthine streets, soak in the colorful facades, and experience the authentic vibe.\\n• Visit Lisbon Cathedral (Sé de Lisboa) as one of the first stops to get a glimpse of Lisbon’s past.\\n\\nLate Morning\\n• Head to Castelo de São Jorge.\\n\\u2003– Explore the castle ruins and enjoy panoramic views over the city and the Tagus River.\\n\\u2003– Take time to stroll along the castle walls and imagine Lisbon’s medieval history.\\n\\nAfternoon\\n• Make your way down to Baixa, the downtown area.\\n\\u2003– Have lunch in one of the traditional “tascas” (small eateries); try local dishes like bacalhau (salted cod) or grilled sardines.\\n\\u2003– Roam around Praça do Comércio and wander along Rua Augusta; if you’re up for it, climb the Arco da Rua Augusta for fantastic cityscape views.\\n\\nEvening\\n• For dinner, choose either Alfama (where you can catch an intimate Fado performance) or Bairro Alto for a livelier atmosphere.\\n\\u2003– In Alfama, many restaurants double as Fado houses where you can savor soulful Portuguese music with your meal.\\n\\u2003– Reserve ahead if you have a favorite venue in mind.\\n\\n────────────────────────────\\nDAY 2: Exploration in Belém & Beyond\\n\\nMorning\\n• Set off for Belém (accessible by tram, bus, or taxi – it’s a 15-20 minute ride from central Lisbon).\\n\\u2003– Begin at Mosteiro dos Jerónimos, a UNESCO World Heritage site showcasing intricate Manueline architecture.\\n\\u2003– Walk around and admire the grandeur of this historic monastery.\\n• Continue to the Monument to the Discoveries, celebrating Portugal’s Age of Exploration.\\n\\nLate Morning\\n• Visit the iconic Belém Tower.\\n\\u2003– Explore the tower, learn about its role in maritime defense, and take in views along the Tagus River.\\n\\u2003– Enjoy a leisurely riverside walk to capture some memorable photos.\\n\\nAfternoon\\n• No trip to Belém is complete without a stop at Pastéis de Belém – try the original pastéis de nata.\\n• Optionally, visit the MAAT (Museum of Art, Architecture, and Technology) or the Coach Museum to see a different facet of Lisbon’s history and creativity.\\n\\nEvening\\n• Return to central Lisbon’s Chiado neighborhood.\\n\\u2003– Choose a restaurant that blends contemporary flair with traditional flavors for dinner.\\n\\u2003– Wrap up the evening with a relaxed stroll through the vibrant streets, or perhaps a glass of vinho verde at a local bar.\\n\\n────────────────────────────\\nDAY 3: Contemporary Lisbon & Riverside Leisure\\n\\nMorning\\n• Explore downtown Lisbon’s urban heart in Baixa and Chiado.\\n\\u2003– Take the Santa Justa Lift for one more iconic view of the city.\\n\\u2003– Wander Rua Augusta’s pedestrian zone, enjoying street performers, boutique shops, and historic cafés.\\n• Stop by the ruins of the Carmo Convent for a poignant touch of history and architectural beauty.\\n\\nLate Morning / Early Afternoon\\n• Head to Parque das Nações – Lisbon’s modern district along the river.\\n\\u2003– Stroll along the waterfront, admire modern architecture, and check out the public art installations.\\n\\u2003– If marine life fascinates you, consider visiting the Oceanário de Lisboa, one of Europe’s premier aquariums.\\n\\nAfternoon\\n• Enjoy lunch at one of the many riverside cafés or restaurants in Parque das Nações.\\n\\u2003– Optionally, take a cable car ride for elevated views of the river and surrounding areas, or explore one of the modern art galleries.\\n\\nEvening\\n• Return to central Lisbon for a farewell dinner.\\n\\u2003– Choose a venue offering modern Portuguese cuisine or innovative fusion dishes.\\n\\u2003– End your trip with a nightcap at a rooftop bar, soaking in the enchanting city lights and reflecting on your Lisbon adventure.\\n\\n────────────────────────────\\nAdditional Tips\\n\\n• Transportation: \\n\\u2003– Lisbon’s trams, metro, and buses are convenient and add charm to your travel experience. Consider purchasing a 24-hour transport pass if you plan on exploring widely.\\n• Footwear: \\n\\u2003– Lisbon’s cobbled streets and hills call for comfortable shoes.\\n• Weather: \\n\\u2003– Mornings and evenings can be cooler, so bring layers even during the summer months.\\n• Flexibility: \\n\\u2003– If you have an extra day or a few hours to spare, consider a short day trip to Sintra, famous for its palaces and scenic mountains (about a 40-minute train ride away).\\n\\nThis itinerary offers a balance of old-world charm, rich history, and modern flair – ensuring you get a thorough taste of what Lisbon has to offer in just three days. Enjoy your trip!', type='TextMessage'), inner_messages=[])\n"
     ]
    }
   ],
   "source": [
    "async def using_on_messages_stream() -> None:\n",
    "    async for message in  agent_o3.on_messages_stream(\n",
    "        [TextMessage(content = \"Plan a 3 days trip to Lisbon, Portugal\", source = \"user\")],\n",
    "        cancellation_token = CancellationToken(),\n",
    "    ):\n",
    "        print(message.chat_message.content)\n",
    "\n",
    "await using_on_messages_stream()"
   ]
  },
  {
   "cell_type": "markdown",
   "id": "02fae317",
   "metadata": {},
   "source": [
    "#### Using Console"
   ]
  },
  {
   "cell_type": "code",
   "execution_count": 12,
   "id": "24511cef",
   "metadata": {},
   "outputs": [
    {
     "name": "stdout",
     "output_type": "stream",
     "text": [
      "---------- assistant_o3 ----------\n",
      "Here's a sample 3-day itinerary for Lisbon that covers historic sites, cultural experiences, delicious food, and a taste of the local vibe. You can adjust the schedule based on your interests, walking pace, and any seasonal events.\n",
      "\n",
      "──────────────────────────────\n",
      "Day 1 – Explore the Heart of Lisbon\n",
      "\n",
      "Morning\n",
      "• Start your day in central Lisbon. If possible, choose lodging in areas like Baixa, Chiado, or Alfama for easy access to major attractions.\n",
      "• Begin at Praça do Comércio, Lisbon’s grand riverside square. Enjoy a coffee on one of the outdoor terraces and take in views of the Tagus River.\n",
      "• Wander over to Rossio Square, a bustling spot with lively cafes and beautiful historic buildings.\n",
      "\n",
      "Late Morning to Early Afternoon\n",
      "• Ride the Santa Justa Elevator to get a bird’s-eye view of the city’s red-tiled rooftops and winding streets.\n",
      "• Stroll through the charming Chiado neighborhood. Let yourself be charmed by its boutique shops, historic bookstores, and quirky cafes.\n",
      "• Enjoy a leisurely lunch at a local tasca (small Portuguese eatery). Consider trying dishes like bacalhau à brás (shredded cod with eggs and potatoes) or caldo verde (traditional green soup).\n",
      "\n",
      "Afternoon\n",
      "• Explore Bairro Alto by walking its steep, narrow streets. Take in the atmosphere and stop at one of the many miradouros (viewpoints) to capture panoramic city views.\n",
      "• Optional: Visit a museum in Chiado if art or history sparks your interest, such as the Museu Nacional de Arte Contemporânea do Chiado.\n",
      "\n",
      "Evening\n",
      "• Have dinner in Bairro Alto or Chiado. Enjoy Portuguese specialties paired with a glass of vinho verde or a local red wine.\n",
      "• End the evening with a live Fado performance at an intimate Fado house—a wonderful window into Portuguese soulful music.\n",
      "\n",
      "──────────────────────────────\n",
      "Day 2 – Discover Belém & Riverside Landmarks\n",
      "\n",
      "Morning\n",
      "• Travel by tram or bus to the historic Belém district.\n",
      "• Start at the Jerónimos Monastery, an outstanding example of Manueline architecture built during Portugal’s Age of Discovery.\n",
      "• Make your way to the nearby Belém Tower, an iconic symbol of Lisbon’s maritime heritage.\n",
      "\n",
      "Late Morning Treat\n",
      "• Stop at Pastéis de Belém to enjoy the famous custard tart (pastel de nata), fresh out of the oven and sprinkled with cinnamon.\n",
      "\n",
      "Afternoon\n",
      "• Continue your exploration of Belém: visit one of the area’s museums such as the MAAT (Museum of Art, Architecture and Technology) or the Berardo Collection Museum, which hosts modern and contemporary art.\n",
      "• Take a stroll along the Tagus River and see the Monument to the Discoveries, celebrating Portugal’s explorers.\n",
      "• Have lunch at one of the waterfront cafes or restaurants, with fresh seafood or other local specialties on offer.\n",
      "\n",
      "Evening\n",
      "• Return to central Lisbon.\n",
      "• Enjoy dinner at a local restaurant in either Chiado or Bairro Alto, possibly dining outdoors if the weather is pleasant.\n",
      "• Take an evening walk along the illuminated streets to absorb Lisbon’s vibrant nightlife and charming ambiance.\n",
      "\n",
      "──────────────────────────────\n",
      "Day 3 – The Historic Alfama & Scenic Vistas\n",
      "\n",
      "Morning\n",
      "• Begin in Alfama, Lisbon’s oldest quarter—get lost in its maze of narrow, cobbled streets filled with authentic atmosphere.\n",
      "• Visit the Lisbon Cathedral (Sé de Lisboa), one of the city’s oldest buildings with a mix of architectural styles.\n",
      "• Head up to São Jorge Castle. Explore the castle grounds for breathtaking views over Lisbon and the Tagus River, and learn about the city’s rich history.\n",
      "\n",
      "Late Morning\n",
      "• Spend time capturing photos from the castle’s ramparts and imagine the city as it was centuries ago.\n",
      "\n",
      "Afternoon\n",
      "• Enjoy lunch in Alfama at a quaint, family-run restaurant that serves traditional dishes such as grilled sardines or octopus salad.\n",
      "• Consider hopping on the famous Tram 28, which winds its way through several historic neighborhoods—including Graça, Alfama, and Chiado—making it a fun and scenic way to soak up Lisbon’s diverse character.\n",
      "• Alternatively, if you’re in the mood for a different vibe, visit LX Factory, a retro-industrial complex now filled with creative shops, galleries, and trendy cafes.\n",
      "\n",
      "Evening\n",
      "• For your final evening, choose a well-regarded restaurant in Alfama or nearby to savor local cuisine and perhaps a glass of Portuguese wine.\n",
      "• Cap your trip with a visit to one of Lisbon’s popular miradouros (like Miradouro da Santa Luzia or Portas do Sol) to watch the sunset over the terracotta rooftops.\n",
      "• Take a relaxed evening walk, reflecting on the cultural and historical treasures you’ve discovered during your trip to Lisbon.\n",
      "\n",
      "──────────────────────────────\n",
      "Additional Tips:\n",
      "• Purchase a Viva Viagem card for easy use of Lisbon’s excellent public transportation system (metro, buses, trams).\n",
      "• Lisbon is a city of hills and cobblestone streets—wear comfortable walking shoes.\n",
      "• Check opening hours of attractions ahead of your visit since some museums and monuments may have seasonal or holiday schedules.\n",
      "• If you have extra time or wish to explore more, consider a half-day trip to nearby Sintra for fairy-tale palaces and lush gardens.\n",
      "\n",
      "Enjoy your immersive journey through Lisbon—a city where history, art, and modern vibrancy come together on every corner!\n",
      "[Prompt tokens: 2081, Completion tokens: 1429]\n",
      "---------- Summary ----------\n",
      "Number of inner messages: 0\n",
      "Total prompt tokens: 2081\n",
      "Total completion tokens: 1429\n",
      "Duration: 12.38 seconds\n"
     ]
    }
   ],
   "source": [
    "\n",
    "from autogen_agentchat.ui import Console  # Import Console\n",
    "\n",
    "async def using_on_messages_stream_with_console() -> None:\n",
    "    await Console(\n",
    "        agent_o3.on_messages_stream(\n",
    "            [TextMessage(content=\"Plan a 3 days trip to Lisbon, Portugal\", source=\"user\")],\n",
    "            cancellation_token=CancellationToken(),\n",
    "        ),\n",
    "        output_stats=True,  # Enable stats printing.\n",
    "    )\n",
    "\n",
    "await using_on_messages_stream_with_console()"
   ]
  }
 ],
 "metadata": {
  "kernelspec": {
   "display_name": ".venv",
   "language": "python",
   "name": "python3"
  },
  "language_info": {
   "codemirror_mode": {
    "name": "ipython",
    "version": 3
   },
   "file_extension": ".py",
   "mimetype": "text/x-python",
   "name": "python",
   "nbconvert_exporter": "python",
   "pygments_lexer": "ipython3",
   "version": "3.13.3"
  }
 },
 "nbformat": 4,
 "nbformat_minor": 5
}
